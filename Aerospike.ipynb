{
 "cells": [
  {
   "cell_type": "code",
   "execution_count": 1,
   "id": "faced-orchestra",
   "metadata": {},
   "outputs": [
    {
     "name": "stdout",
     "output_type": "stream",
     "text": [
      "Aerospike database is running!\r\n"
     ]
    }
   ],
   "source": [
    "!asd >& /dev/null\n",
    "!pgrep -x asd >/dev/null && echo \"Aerospike database is running!\" || echo \"**Aerospike database is not running!**\""
   ]
  },
  {
   "cell_type": "markdown",
   "id": "tested-gardening",
   "metadata": {},
   "source": [
    "# Aerospike Basic Operations\n",
    "\n",
    "Basic CRUD (Create, Read, Update, and Delete) operations in Aerospike, and how multiple operations on a record are performed in a single request.\n",
    "<br>\n",
    "This notebook requires Aerospike datbase running on localhost and that python and the Aerospike python client have been installed (`pip install aerospike`). Visit [Aerospike notebooks repo](https://github.com/aerospike-examples/interactive-notebooks) for additional details and the docker container."
   ]
  },
  {
   "cell_type": "code",
   "execution_count": 2,
   "id": "continuous-explosion",
   "metadata": {},
   "outputs": [
    {
     "name": "stdout",
     "output_type": "stream",
     "text": [
      "Client initialized and connected to DB\n"
     ]
    }
   ],
   "source": [
    "import aerospike\n",
    "import sys\n",
    "config = {\n",
    "    'hosts': [('127.0.0.1', 3000)]\n",
    "}\n",
    "\n",
    "try:\n",
    "    client = aerospike.client(config).connect()\n",
    "except:\n",
    "    import sys\n",
    "    print(\"failed to connect to the cluster with\", config['hosts'])\n",
    "    sys.exit(1)\n",
    "print('Client initialized and connected to DB')"
   ]
  },
  {
   "cell_type": "markdown",
   "id": "level-cancer",
   "metadata": {},
   "source": [
    "## Understanding Records in Aerospike\n",
    "Data in Aerospike consists of records. A record belongs to a namespace (equivalent to a database) and optionally to a set (equivalent to a table). A record has multiple bins (or fields), which are named, strongly-typed containers that hold both atomic (string, integer, bytes) and complex (map, list) data types.\n",
    "\n",
    "A record has two metadata values:\n",
    "- generation: the number of times it has been modified\n",
    "- ttl (time to live): seconds remaining until record expiration (default = 0; never expire)\n",
    "\n",
    "Expired records are garbage-collected by the database. On a write or touch operations, a record's ttl is updated based on the specified policy.\n",
    "\n",
    "### Record Structure\n",
    "The following code cell illustrates the record structure.\n",
    "\n",
    "Note:\n",
    "- key: (namespace, set, user_key, digest), digest is computed from the first three elements.\n",
    "- metadata: {'gen': generation, 'ttl': ttl}\n",
    "- bins: key-value pairs of data bins dictionary\n",
    "\n",
    "And also:\n",
    "- digest (the bytearray in output) is the actual record unique identifier.\n",
    "- user_key input to produce digest may or may not be stored with the record, and is governed by the key policy.\n"
   ]
  },
  {
   "cell_type": "code",
   "execution_count": 24,
   "id": "paperback-mixture",
   "metadata": {},
   "outputs": [
    {
     "name": "stdout",
     "output_type": "stream",
     "text": [
      "Successfully wrote the record\n",
      "Successfully read the record\n",
      "Key:  ('test', 'demo', 'foo', bytearray(b'\\xf5~\\xc1\\x835\\xf7\\x10\\x0c\\x04X\\xf8\\xa6D\\xbc\\xbcvm\\x93G\\x1e'))\n",
      "Metadata:  {'ttl': 2592000, 'gen': 1}\n",
      "Bins:  {'name': 'John Doe', 'age': 14, 'gpa': 4.3}\n"
     ]
    }
   ],
   "source": [
    "namespace = 'test'\n",
    "demoset = 'demo'\n",
    "user_key = 'foo'\n",
    "meta = {'ttl': 0}\n",
    "bins = {'name':'John Doe', 'age': 14, 'gpa': 4.3 }\n",
    "policy = {'key': aerospike.POLICY_KEY_SEND}\n",
    "\n",
    "try:\n",
    "    client.put((namespace, demoset, user_key), bins, meta, policy)\n",
    "except:\n",
    "    print('failed to put record')\n",
    "    sys.exit(1)\n",
    "print('Successfully wrote the record')\n",
    "\n",
    "try:\n",
    "    (key, metadata, bins) = client.get((namespace, demoset, user_key), policy)\n",
    "except:\n",
    "    print('failed to get record')\n",
    "    sys.exit(1)\n",
    "\n",
    "print('Successfully read the record')\n",
    "print('Key: ', key)\n",
    "print('Metadata: ', metadata)\n",
    "print('Bins: ', bins)"
   ]
  },
  {
   "cell_type": "markdown",
   "id": "every-symbol",
   "metadata": {},
   "source": [
    "## Writing Records\n",
    "The Python client's \"put\" operations is used to write data to the Aerospike cluster.\n",
    "\n",
    "### Defining the Key\n",
    "As described above, the key tuple serves as the record's unique identifier.\n",
    "\n",
    "Below we define a key tuple in the set \"characters\" with the user key \"bender\" in namespace \"test\"."
   ]
  },
  {
   "cell_type": "code",
   "execution_count": 4,
   "id": "optional-comfort",
   "metadata": {},
   "outputs": [],
   "source": [
    "key = ('test', 'characters', 'bender')"
   ]
  },
  {
   "cell_type": "code",
   "execution_count": 5,
   "id": "executive-nickel",
   "metadata": {},
   "outputs": [],
   "source": [
    "# The record data to write to the cluster\n",
    "bins = {\n",
    "  'name': 'Bender',\n",
    "  'serialnum': 2716057,\n",
    "  'lastsentence': {\n",
    "    'BBS': \"Well, we're boned\",\n",
    "    'TBwaBB': 'I love you, meatbags!',\n",
    "    'BG': 'Whip harder, Professor!',\n",
    "    'ltWGY': 'Into the breach, meatbags. Or not, whatever'},\n",
    "  'composition': [ \"40% zinc\", \"40% titanium\", \"30% iron\", \"40% dolomite\" ],\n",
    "  'apartment': bytearray(b'\\x24'),\n",
    "  'quote_cnt': 47\n",
    "}"
   ]
  },
  {
   "cell_type": "markdown",
   "id": "combined-things",
   "metadata": {},
   "source": [
    "### Storing the Record\n",
    "Store the record in the database with put."
   ]
  },
  {
   "cell_type": "code",
   "execution_count": 6,
   "id": "affiliated-variety",
   "metadata": {},
   "outputs": [],
   "source": [
    "try:\n",
    "    client.put(key, bins)\n",
    "except:\n",
    "    print('failed to put record')"
   ]
  },
  {
   "cell_type": "code",
   "execution_count": 7,
   "id": "cellular-heart",
   "metadata": {},
   "outputs": [
    {
     "name": "stdout",
     "output_type": "stream",
     "text": [
      "Bins {'name': 'Bender', 'serialnum': 2716057, 'lastsentence': {'BBS': \"Well, we're boned\", 'BG': 'Whip harder, Professor!', 'TBwaBB': 'I love you, meatbags!', 'ltWGY': 'Into the breach, meatbags. Or not, whatever'}, 'composition': ['40% zinc', '40% titanium', '30% iron', '40% dolomite'], 'apartment': b'$', 'quote_cnt': 47}\n"
     ]
    }
   ],
   "source": [
    "try:\n",
    "    (key, metadata, bins) = client.get(key, policy)\n",
    "except:\n",
    "    print('failed')\n",
    "    sys.exit(1)\n",
    "print('Bins', bins)"
   ]
  },
  {
   "cell_type": "markdown",
   "id": "integrated-syracuse",
   "metadata": {},
   "source": [
    "### Appending, Prepending and Incrementing a Bin\n",
    "The following APIs are used to prepend and append string bins, and increment integer bins:"
   ]
  },
  {
   "cell_type": "code",
   "execution_count": 8,
   "id": "turned-dubai",
   "metadata": {},
   "outputs": [
    {
     "name": "stdout",
     "output_type": "stream",
     "text": [
      "{'name': 'DRBender', 'serialnum': 2716057, 'lastsentence': {'BBS': \"Well, we're boned\", 'BG': 'Whip harder, Professor!', 'TBwaBB': 'I love you, meatbags!', 'ltWGY': 'Into the breach, meatbags. Or not, whatever'}, 'composition': ['40% zinc', '40% titanium', '30% iron', '40% dolomite'], 'apartment': b'$', 'quote_cnt': 50}\n"
     ]
    }
   ],
   "source": [
    "try:\n",
    "    client.prepend(key, 'name', 'DR')\n",
    "    client.increment(key, 'quote_cnt', 3)\n",
    "except:\n",
    "    print('failed to get record')\n",
    "    sys.exit(1)\n",
    "    \n",
    "try:\n",
    "    (key, metadata, bins) = client.get(key, policy)\n",
    "except:\n",
    "    print('failed')\n",
    "    sys.exit(1)\n",
    "print(bins)"
   ]
  },
  {
   "cell_type": "markdown",
   "id": "severe-governor",
   "metadata": {},
   "source": [
    "## Reading Records\n",
    "There are multiple ways to read records from Aerospike database, \"get\" being the simplest one.\n",
    "You will need the key as the record unique identifier as discussed above. Note the record was written above.\n",
    "\n",
    "It returns:\n",
    "- key — The key tuple of the record that was read.\n",
    "- meta — The dict containing the record metadata gen and ttl fields.\n",
    "- bins — The dict containing the bins of the record.\n",
    "\n",
    "Meta and bins are None if the record is not found."
   ]
  },
  {
   "cell_type": "code",
   "execution_count": 16,
   "id": "level-citation",
   "metadata": {},
   "outputs": [],
   "source": [
    "key = ('test', 'demo', 'foo')\n",
    "try:\n",
    "    (key, meta, bins) = client.get(key, policy)\n",
    "except:\n",
    "    print('failed to get record')\n",
    "    sys.exit(1)"
   ]
  },
  {
   "cell_type": "code",
   "execution_count": 17,
   "id": "thorough-tourist",
   "metadata": {},
   "outputs": [
    {
     "name": "stdout",
     "output_type": "stream",
     "text": [
      "('test', 'demo', 'foo', bytearray(b'\\xf5~\\xc1\\x835\\xf7\\x10\\x0c\\x04X\\xf8\\xa6D\\xbc\\xbcvm\\x93G\\x1e')) {'ttl': 2591995, 'gen': 3} {'name': 'John Doe', 'age': 14, 'gpa': 4.3}\n"
     ]
    }
   ],
   "source": [
    "print(key, meta, bins)"
   ]
  },
  {
   "cell_type": "markdown",
   "id": "yellow-guarantee",
   "metadata": {},
   "source": [
    "### Projecting the Bins of a Record\n",
    "It is possible to project or read specific bins of a record. The following example illustrates this. Note that the second argument is a tuple of bin names to project."
   ]
  },
  {
   "cell_type": "code",
   "execution_count": 28,
   "id": "integral-meter",
   "metadata": {},
   "outputs": [
    {
     "name": "stdout",
     "output_type": "stream",
     "text": [
      "{'age': 14, 'name': 'John Doe'}\n"
     ]
    }
   ],
   "source": [
    "try:\n",
    "    (key, meta, bins) = client.select(key, ('age', 'name'))\n",
    "except:\n",
    "    print('failed')\n",
    "print(bins)"
   ]
  },
  {
   "cell_type": "code",
   "execution_count": 29,
   "id": "micro-petite",
   "metadata": {},
   "outputs": [
    {
     "data": {
      "text/plain": [
       "('test',\n",
       " 'demo',\n",
       " 'foo',\n",
       " bytearray(b'\\xf5~\\xc1\\x835\\xf7\\x10\\x0c\\x04X\\xf8\\xa6D\\xbc\\xbcvm\\x93G\\x1e'))"
      ]
     },
     "execution_count": 29,
     "metadata": {},
     "output_type": "execute_result"
    }
   ],
   "source": [
    "key"
   ]
  },
  {
   "cell_type": "code",
   "execution_count": null,
   "id": "noble-shopper",
   "metadata": {},
   "outputs": [],
   "source": []
  }
 ],
 "metadata": {
  "kernelspec": {
   "display_name": "Python 3",
   "language": "python",
   "name": "python3"
  },
  "language_info": {
   "codemirror_mode": {
    "name": "ipython",
    "version": 3
   },
   "file_extension": ".py",
   "mimetype": "text/x-python",
   "name": "python",
   "nbconvert_exporter": "python",
   "pygments_lexer": "ipython3",
   "version": "3.8.6"
  },
  "toc": {
   "base_numbering": 1,
   "nav_menu": {},
   "number_sections": true,
   "sideBar": true,
   "skip_h1_title": false,
   "title_cell": "Table of Contents",
   "title_sidebar": "Contents",
   "toc_cell": false,
   "toc_position": {},
   "toc_section_display": true,
   "toc_window_display": false
  }
 },
 "nbformat": 4,
 "nbformat_minor": 5
}
